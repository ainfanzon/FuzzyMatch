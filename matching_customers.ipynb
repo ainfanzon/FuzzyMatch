{
 "cells": [
  {
   "cell_type": "markdown",
   "metadata": {},
   "source": [
    "# Using FuzzyWuzzy to match customers in the top global companies list\n",
    "By Alex Infanzon"
   ]
  },
  {
   "cell_type": "markdown",
   "metadata": {},
   "source": [
    "## Abstract\n",
    "\n",
    "To ensure high data quality, data must be validated and cleansed. A common scenario for data scientists is, given two sets of similar data, normalize both data sets to have a common record for modelling. Fuzzy matching is a technique used in record linkage. It works with matches that may be less than 100% perfect. In this blog I am going to share a Jupyter notebook that compares and matches a two lists of customer names.\n",
    "\n",
    "The code is written in Python 3.6 and leverages the fuzzy matching package (FuzzyWuzzy) to compare customer names. A match threshold confidence is set to match records from both data sources and create a summary of matching records.\n",
    "\n",
    "## Introduction\n",
    "\n",
    "To ensure high data quality, data warehouses or analytical warehouses must validate and cleanse incoming data from external sources. In many situations, clean tuples must match acceptable tuples in a reference data set. For example, customer name and description fields in a sales record from a customer list must match the pre-recorded name and description fields in another customer reference data set.\n",
    "\n",
    "A significant challenge in such a scenario is to implement an efficient and accurate fuzzy match operation that can effectively clean an incoming tuple if it fails to match exactly with any tuple in the reference relation.\n",
    "\n",
    "## Required libraries\n",
    "\n",
    "For matching records you need to import fuzz and process from fuzzywuzzy. To load and manipulate matched records we will use a dataframe, so we need to import pandas. Optionally, if you want to add markdown cells from the python code you also need to import Markdown and display form the IPython.display library. \n"
   ]
  },
  {
   "cell_type": "code",
   "execution_count": 1,
   "metadata": {
    "scrolled": true
   },
   "outputs": [],
   "source": [
    "from fuzzywuzzy import fuzz\n",
    "from fuzzywuzzy import process\n",
    "from IPython.display import Markdown, display\n",
    "import pandas as pd"
   ]
  },
  {
   "cell_type": "markdown",
   "metadata": {},
   "source": [
    "## Global Constants\n",
    "\n",
    "This section has a definition of all the global constants used in the Python code. Change the file path to select different files. Also you can increase or decrease the matching to improve the matching results."
   ]
  },
  {
   "cell_type": "code",
   "execution_count": 2,
   "metadata": {},
   "outputs": [],
   "source": [
    "sourceFile = '/Users/ainfanzon/Public/trashme/forbes2000.csv'\n",
    "#sourceFile = '/Users/ainfanzon/Public/trashme/fortune500'\n",
    "targetFile = '/Users/ainfanzon/Public/trashme/orcl_cust.csv'\n",
    "#targetFile = '/Users/ainfanzon/Public/trashme/all_cust.csv'#targetFile = '/Users/ainfanzon/Public/trashme/sap_cust.csv'\n",
    "#targetFile = '/Users/ainfanzon/Public/trashme/msft_cust.csv'\n",
    "#targetFile = '/Users/ainfanzon/Public/trashme/sas_cust.csv'\n",
    "\n",
    "matches = 0     # count the number of matches\n",
    "idx = 0         # index for the dataframe\n",
    "threshold = 92  # matching threshold"
   ]
  },
  {
   "cell_type": "markdown",
   "metadata": {},
   "source": [
    "## Matching function\n",
    "\n",
    "The fuzzymatch function takes four parameters:\n",
    "\n",
    "* s = Holds a list with company names from Salesforce, i.e., the source\n",
    "* t = Holds the Top Global companies matching target\n",
    "* d = Is the dataframe with the matching results\n",
    "* i = Used for indexing rows in the dataframe\n",
    "\n",
    "It evaluates if the matching score is greater than the threshold. If so, returns one to be added to the number of records matched, otherwise returns zero."
   ]
  },
  {
   "cell_type": "code",
   "execution_count": 3,
   "metadata": {},
   "outputs": [],
   "source": [
    "def fuzzymatch(s, t, d, i):\n",
    "    new_name, score = process.extractOne(s, t)\n",
    "    if score > threshold:  # threshold was defined in global constants\n",
    "        d.loc[i] = [ s, new_name, score ]\n",
    "        return 1\n",
    "    return 0"
   ]
  },
  {
   "cell_type": "markdown",
   "metadata": {},
   "source": [
    "## Main Section\n",
    "\n",
    "The actions executed in this section are:\n",
    "\n",
    "* Open source and target files\n",
    "* Deduplicate the source records\n",
    "* Match deduplicated records\n",
    "\n",
    "### Open source and target files\n",
    "\n",
    "The file names in the __*sourceFile*__ and __*targetFile*__ variables were defined in the global section above. The records are loaded to a list. "
   ]
  },
  {
   "cell_type": "code",
   "execution_count": 4,
   "metadata": {},
   "outputs": [],
   "source": [
    "source=[line.strip() for line in open(sourceFile)]\n",
    "names=[line.strip() for line in open(targetFile)]\n"
   ]
  },
  {
   "cell_type": "markdown",
   "metadata": {},
   "source": [
    "### Deduplicate the source records\n",
    "\n",
    "We use the __*set*__ statement to deduplicate the Salesforce source records. Next the column names for the dataframe are defined."
   ]
  },
  {
   "cell_type": "code",
   "execution_count": 5,
   "metadata": {},
   "outputs": [],
   "source": [
    "lstNoDups = set(names)\n",
    "\n",
    "df = pd.DataFrame(columns=('Salesforce source', 'Global Target', 'Score'))"
   ]
  },
  {
   "cell_type": "markdown",
   "metadata": {},
   "source": [
    "### Match deduplicated records\n",
    "\n",
    "Match deduplicated record using the __*fuzzymatch*__ function"
   ]
  },
  {
   "cell_type": "code",
   "execution_count": 6,
   "metadata": {},
   "outputs": [],
   "source": [
    "for name in lstNoDups:\n",
    "    matches = matches +  fuzzymatch(name, source, df, idx)\n",
    "    idx = idx + 1"
   ]
  },
  {
   "cell_type": "markdown",
   "metadata": {},
   "source": [
    "Below is a sample matching records and their matching score. To display all the record comment the line with the sample function and uncomment the other one."
   ]
  },
  {
   "cell_type": "code",
   "execution_count": 7,
   "metadata": {},
   "outputs": [
    {
     "data": {
      "text/html": [
       "<div>\n",
       "<style scoped>\n",
       "    .dataframe tbody tr th:only-of-type {\n",
       "        vertical-align: middle;\n",
       "    }\n",
       "\n",
       "    .dataframe tbody tr th {\n",
       "        vertical-align: top;\n",
       "    }\n",
       "\n",
       "    .dataframe thead th {\n",
       "        text-align: right;\n",
       "    }\n",
       "</style>\n",
       "<table border=\"1\" class=\"dataframe\">\n",
       "  <thead>\n",
       "    <tr style=\"text-align: right;\">\n",
       "      <th></th>\n",
       "      <th>Salesforce source</th>\n",
       "      <th>Global Target</th>\n",
       "      <th>Score</th>\n",
       "    </tr>\n",
       "  </thead>\n",
       "  <tbody>\n",
       "    <tr>\n",
       "      <th>649</th>\n",
       "      <td>ConocoPhillips Norge</td>\n",
       "      <td>ConocoPhillips</td>\n",
       "      <td>95</td>\n",
       "    </tr>\n",
       "    <tr>\n",
       "      <th>782</th>\n",
       "      <td>Capital One Financial</td>\n",
       "      <td>Capital One Financial</td>\n",
       "      <td>100</td>\n",
       "    </tr>\n",
       "    <tr>\n",
       "      <th>580</th>\n",
       "      <td>CNO Financial</td>\n",
       "      <td>CNO Financial Group</td>\n",
       "      <td>95</td>\n",
       "    </tr>\n",
       "    <tr>\n",
       "      <th>809</th>\n",
       "      <td>Westar Energy</td>\n",
       "      <td>Westar Energy</td>\n",
       "      <td>100</td>\n",
       "    </tr>\n",
       "    <tr>\n",
       "      <th>707</th>\n",
       "      <td>HENRY SCHEIN, INC.</td>\n",
       "      <td>Henry Schein</td>\n",
       "      <td>95</td>\n",
       "    </tr>\n",
       "    <tr>\n",
       "      <th>779</th>\n",
       "      <td>INTESA SANPAOLO SPA</td>\n",
       "      <td>Intesa Sanpaolo</td>\n",
       "      <td>95</td>\n",
       "    </tr>\n",
       "    <tr>\n",
       "      <th>355</th>\n",
       "      <td>Mitsubishi Electric</td>\n",
       "      <td>Mitsubishi Electric</td>\n",
       "      <td>100</td>\n",
       "    </tr>\n",
       "    <tr>\n",
       "      <th>137</th>\n",
       "      <td>Dassault Systemes EMEA</td>\n",
       "      <td>Dassault Systemes</td>\n",
       "      <td>95</td>\n",
       "    </tr>\n",
       "    <tr>\n",
       "      <th>345</th>\n",
       "      <td>Autoliv</td>\n",
       "      <td>Autoliv</td>\n",
       "      <td>100</td>\n",
       "    </tr>\n",
       "    <tr>\n",
       "      <th>554</th>\n",
       "      <td>XPO Logistics</td>\n",
       "      <td>XPO Logistics</td>\n",
       "      <td>100</td>\n",
       "    </tr>\n",
       "    <tr>\n",
       "      <th>344</th>\n",
       "      <td>Navient</td>\n",
       "      <td>Navient</td>\n",
       "      <td>100</td>\n",
       "    </tr>\n",
       "    <tr>\n",
       "      <th>661</th>\n",
       "      <td>National Oilwell Varco</td>\n",
       "      <td>National Oilwell Varco</td>\n",
       "      <td>100</td>\n",
       "    </tr>\n",
       "    <tr>\n",
       "      <th>677</th>\n",
       "      <td>Telecom Italia</td>\n",
       "      <td>Telecom Italia</td>\n",
       "      <td>100</td>\n",
       "    </tr>\n",
       "    <tr>\n",
       "      <th>406</th>\n",
       "      <td>Ferrovial</td>\n",
       "      <td>Ferrovial</td>\n",
       "      <td>100</td>\n",
       "    </tr>\n",
       "    <tr>\n",
       "      <th>385</th>\n",
       "      <td>Delta Air Lines, Inc.</td>\n",
       "      <td>Delta Air Lines</td>\n",
       "      <td>95</td>\n",
       "    </tr>\n",
       "    <tr>\n",
       "      <th>116</th>\n",
       "      <td>INTUITIVE SURGICAL, INC.</td>\n",
       "      <td>Intuitive Surgical</td>\n",
       "      <td>95</td>\n",
       "    </tr>\n",
       "    <tr>\n",
       "      <th>16</th>\n",
       "      <td>COMPAL ELECTRONICS, INC.</td>\n",
       "      <td>Compal Electronics</td>\n",
       "      <td>95</td>\n",
       "    </tr>\n",
       "    <tr>\n",
       "      <th>150</th>\n",
       "      <td>Quest Diagnostics</td>\n",
       "      <td>Quest Diagnostics</td>\n",
       "      <td>100</td>\n",
       "    </tr>\n",
       "    <tr>\n",
       "      <th>743</th>\n",
       "      <td>QBE Insurance Group</td>\n",
       "      <td>QBE Insurance Group</td>\n",
       "      <td>100</td>\n",
       "    </tr>\n",
       "    <tr>\n",
       "      <th>646</th>\n",
       "      <td>Schlumberger US</td>\n",
       "      <td>Schlumberger</td>\n",
       "      <td>95</td>\n",
       "    </tr>\n",
       "  </tbody>\n",
       "</table>\n",
       "</div>"
      ],
      "text/plain": [
       "            Salesforce source           Global Target Score\n",
       "649      ConocoPhillips Norge          ConocoPhillips    95\n",
       "782     Capital One Financial   Capital One Financial   100\n",
       "580             CNO Financial     CNO Financial Group    95\n",
       "809             Westar Energy           Westar Energy   100\n",
       "707        HENRY SCHEIN, INC.            Henry Schein    95\n",
       "779       INTESA SANPAOLO SPA         Intesa Sanpaolo    95\n",
       "355       Mitsubishi Electric     Mitsubishi Electric   100\n",
       "137    Dassault Systemes EMEA       Dassault Systemes    95\n",
       "345                   Autoliv                 Autoliv   100\n",
       "554             XPO Logistics           XPO Logistics   100\n",
       "344                   Navient                 Navient   100\n",
       "661    National Oilwell Varco  National Oilwell Varco   100\n",
       "677            Telecom Italia          Telecom Italia   100\n",
       "406                 Ferrovial               Ferrovial   100\n",
       "385     Delta Air Lines, Inc.         Delta Air Lines    95\n",
       "116  INTUITIVE SURGICAL, INC.      Intuitive Surgical    95\n",
       "16   COMPAL ELECTRONICS, INC.      Compal Electronics    95\n",
       "150         Quest Diagnostics       Quest Diagnostics   100\n",
       "743       QBE Insurance Group     QBE Insurance Group   100\n",
       "646           Schlumberger US            Schlumberger    95"
      ]
     },
     "metadata": {},
     "output_type": "display_data"
    }
   ],
   "source": [
    "display(df.sample(n=20))\n",
    "#df.to_csv('/Users/ainfanzon/Public/trashme/SAP-Matching_Results.csv')"
   ]
  },
  {
   "cell_type": "markdown",
   "metadata": {},
   "source": [
    "## Findings\n",
    "\n",
    "In this section the analysis results are presented.\n"
   ]
  },
  {
   "cell_type": "code",
   "execution_count": 8,
   "metadata": {},
   "outputs": [
    {
     "data": {
      "text/markdown": [
       "The total number of records extracted from Salesforce is 1903. After de-duplication we have 822 unique records. From the list of unique records 35 matched to the top 2000 Global companies."
      ],
      "text/plain": [
       "<IPython.core.display.Markdown object>"
      ]
     },
     "metadata": {},
     "output_type": "display_data"
    },
    {
     "data": {
      "text/markdown": [
       "From Salesforce list of unique customers 1% are listed in the Global 2000 companies. Which represent 4% of the installed base (# Matches/Salesforce deduped records)"
      ],
      "text/plain": [
       "<IPython.core.display.Markdown object>"
      ]
     },
     "metadata": {},
     "output_type": "display_data"
    }
   ],
   "source": [
    "conclusion_1 = \"The total number of records extracted from Salesforce is \" + str(len(names)) \\\n",
    "             + \". After de-duplication we have \" + str(len(lstNoDups)) + \" unique records.\" \\\n",
    "             + \" From the list of unique records \" + str(matches) + \" matched to the top \" \\\n",
    "             + str(len(source)) + \" Global companies.\"\n",
    "display(Markdown(conclusion_1))\n",
    "conclusion_2 = \"From Salesforce list of unique customers \" + str(int(matches/len(source)*100)) \\\n",
    "             + \"% are listed in the Global \" + str(len(source)) + \" companies. \" \\\n",
    "             + \"Which represent \" + str(int(matches/len(lstNoDups)*100)) + \"% of the installed base (# Matches/Salesforce deduped records)\"\n",
    "display(Markdown(conclusion_2))\n"
   ]
  },
  {
   "cell_type": "code",
   "execution_count": null,
   "metadata": {},
   "outputs": [],
   "source": []
  }
 ],
 "metadata": {
  "kernelspec": {
   "display_name": "Python 3",
   "language": "python",
   "name": "python3"
  },
  "language_info": {
   "codemirror_mode": {
    "name": "ipython",
    "version": 3
   },
   "file_extension": ".py",
   "mimetype": "text/x-python",
   "name": "python",
   "nbconvert_exporter": "python",
   "pygments_lexer": "ipython3",
   "version": "3.5.4"
  }
 },
 "nbformat": 4,
 "nbformat_minor": 2
}
